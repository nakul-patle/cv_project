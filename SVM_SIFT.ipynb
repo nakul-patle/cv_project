{
 "cells": [
  {
   "cell_type": "code",
   "execution_count": 5,
   "metadata": {
    "_cell_guid": "b1076dfc-b9ad-4769-8c92-a6c4dae69d19",
    "_uuid": "8f2839f25d086af736a60e9eeb907d3b93b6e0e5",
    "execution": {
     "iopub.execute_input": "2025-04-16T07:27:44.923990Z",
     "iopub.status.busy": "2025-04-16T07:27:44.923669Z",
     "iopub.status.idle": "2025-04-16T07:27:45.168247Z",
     "shell.execute_reply": "2025-04-16T07:27:45.167262Z",
     "shell.execute_reply.started": "2025-04-16T07:27:44.923946Z"
    },
    "trusted": true
   },
   "outputs": [],
   "source": [
    "import os\n",
    "import cv2\n",
    "import numpy as np\n",
    "from sklearn.svm import SVC\n",
    "from sklearn.decomposition import PCA\n",
    "from sklearn.ensemble import RandomForestClassifier\n",
    "from sklearn.model_selection import GridSearchCV, train_test_split, StratifiedKFold\n",
    "from sklearn.metrics import classification_report, accuracy_score, confusion_matrix\n",
    "from sklearn.preprocessing import StandardScaler, LabelEncoder\n",
    "from sklearn.pipeline import Pipeline\n",
    "from tqdm import tqdm\n",
    "import matplotlib.pyplot as plt\n",
    "import kagglehub"
   ]
  },
  {
   "cell_type": "code",
   "execution_count": null,
   "metadata": {
    "trusted": true
   },
   "outputs": [],
   "source": [
    "from tensorflow.keras.preprocessing.image import ImageDataGenerator"
   ]
  },
  {
   "cell_type": "code",
   "execution_count": null,
   "metadata": {
    "execution": {
     "iopub.execute_input": "2025-04-16T07:23:31.676325Z",
     "iopub.status.busy": "2025-04-16T07:23:31.675788Z",
     "iopub.status.idle": "2025-04-16T07:23:31.790904Z",
     "shell.execute_reply": "2025-04-16T07:23:31.790114Z",
     "shell.execute_reply.started": "2025-04-16T07:23:31.676301Z"
    },
    "trusted": true
   },
   "outputs": [],
   "source": [
    "NUM_FEATURES = 100\n",
    "SAMPLE_SIZE = 200\n",
    "path = kagglehub.dataset_download(\"ankit1743/skyview-an-aerial-landscape-dataset\")\n",
    "DATASET_DIR = os.path.join(path, 'Aerial_Landscapes')\n",
    "\n",
    "datagen = ImageDataGenerator(\n",
    "    rotation_range=30,\n",
    "    horizontal_flip=True,\n",
    "    brightness_range=[0.7, 1.3],\n",
    "    shear_range=0.2,\n",
    "    zoom_range=[0.8, 1.2]\n",
    ")\n",
    "\n",
    "def extract_sift_features(img, num_features):\n",
    "    sift = cv2.SIFT_create(nfeatures=num_features)\n",
    "    gray = cv2.cvtColor(img, cv2.COLOR_BGR2GRAY)\n",
    "    keypoints, descriptors = sift.detectAndCompute(gray, None)\n",
    "    if descriptors is None or len(descriptors) == 0:\n",
    "        return np.zeros(num_features * 128)\n",
    "    descriptors = descriptors[:num_features] if len(descriptors) > num_features else np.pad(\n",
    "        descriptors, ((0, num_features - len(descriptors)), (0, 0)), 'constant'\n",
    "    )\n",
    "    return descriptors.flatten()"
   ]
  },
  {
   "cell_type": "code",
   "execution_count": null,
   "metadata": {
    "execution": {
     "iopub.execute_input": "2025-04-16T07:23:31.792480Z",
     "iopub.status.busy": "2025-04-16T07:23:31.792217Z",
     "iopub.status.idle": "2025-04-16T07:27:11.963375Z",
     "shell.execute_reply": "2025-04-16T07:27:11.962406Z",
     "shell.execute_reply.started": "2025-04-16T07:23:31.792461Z"
    },
    "trusted": true
   },
   "outputs": [
    {
     "name": "stdout",
     "output_type": "stream",
     "text": [
      "Loading and preprocessing data...\n",
      "Found 15 classes: Agriculture, Airport, Beach, City, Desert, Forest, Grassland, Highway, Lake, Mountain, Parking, Port, Railway, Residential, River\n",
      "Processing class Agriculture: 200 images\n"
     ]
    },
    {
     "name": "stderr",
     "output_type": "stream",
     "text": [
      "Class Agriculture: 100%|██████████| 200/200 [00:15<00:00, 13.05it/s]\n"
     ]
    },
    {
     "name": "stdout",
     "output_type": "stream",
     "text": [
      "Processing class Airport: 200 images\n"
     ]
    },
    {
     "name": "stderr",
     "output_type": "stream",
     "text": [
      "Class Airport: 100%|██████████| 200/200 [00:15<00:00, 13.09it/s]\n"
     ]
    },
    {
     "name": "stdout",
     "output_type": "stream",
     "text": [
      "Processing class Beach: 200 images\n"
     ]
    },
    {
     "name": "stderr",
     "output_type": "stream",
     "text": [
      "Class Beach: 100%|██████████| 200/200 [00:13<00:00, 14.45it/s]\n"
     ]
    },
    {
     "name": "stdout",
     "output_type": "stream",
     "text": [
      "Processing class City: 200 images\n"
     ]
    },
    {
     "name": "stderr",
     "output_type": "stream",
     "text": [
      "Class City: 100%|██████████| 200/200 [00:15<00:00, 12.77it/s]\n"
     ]
    },
    {
     "name": "stdout",
     "output_type": "stream",
     "text": [
      "Processing class Desert: 200 images\n"
     ]
    },
    {
     "name": "stderr",
     "output_type": "stream",
     "text": [
      "Class Desert: 100%|██████████| 200/200 [00:13<00:00, 14.54it/s]\n"
     ]
    },
    {
     "name": "stdout",
     "output_type": "stream",
     "text": [
      "Processing class Forest: 200 images\n"
     ]
    },
    {
     "name": "stderr",
     "output_type": "stream",
     "text": [
      "Class Forest: 100%|██████████| 200/200 [00:15<00:00, 13.29it/s]\n"
     ]
    },
    {
     "name": "stdout",
     "output_type": "stream",
     "text": [
      "Processing class Grassland: 200 images\n"
     ]
    },
    {
     "name": "stderr",
     "output_type": "stream",
     "text": [
      "Class Grassland: 100%|██████████| 200/200 [00:13<00:00, 14.98it/s]\n"
     ]
    },
    {
     "name": "stdout",
     "output_type": "stream",
     "text": [
      "Processing class Highway: 200 images\n"
     ]
    },
    {
     "name": "stderr",
     "output_type": "stream",
     "text": [
      "Class Highway: 100%|██████████| 200/200 [00:14<00:00, 13.37it/s]\n"
     ]
    },
    {
     "name": "stdout",
     "output_type": "stream",
     "text": [
      "Processing class Lake: 200 images\n"
     ]
    },
    {
     "name": "stderr",
     "output_type": "stream",
     "text": [
      "Class Lake: 100%|██████████| 200/200 [00:14<00:00, 13.78it/s]\n"
     ]
    },
    {
     "name": "stdout",
     "output_type": "stream",
     "text": [
      "Processing class Mountain: 200 images\n"
     ]
    },
    {
     "name": "stderr",
     "output_type": "stream",
     "text": [
      "Class Mountain: 100%|██████████| 200/200 [00:15<00:00, 13.27it/s]\n"
     ]
    },
    {
     "name": "stdout",
     "output_type": "stream",
     "text": [
      "Processing class Parking: 200 images\n"
     ]
    },
    {
     "name": "stderr",
     "output_type": "stream",
     "text": [
      "Class Parking: 100%|██████████| 200/200 [00:14<00:00, 13.57it/s]\n"
     ]
    },
    {
     "name": "stdout",
     "output_type": "stream",
     "text": [
      "Processing class Port: 200 images\n"
     ]
    },
    {
     "name": "stderr",
     "output_type": "stream",
     "text": [
      "Class Port: 100%|██████████| 200/200 [00:14<00:00, 13.82it/s]\n"
     ]
    },
    {
     "name": "stdout",
     "output_type": "stream",
     "text": [
      "Processing class Railway: 200 images\n"
     ]
    },
    {
     "name": "stderr",
     "output_type": "stream",
     "text": [
      "Class Railway: 100%|██████████| 200/200 [00:14<00:00, 13.55it/s]\n"
     ]
    },
    {
     "name": "stdout",
     "output_type": "stream",
     "text": [
      "Processing class Residential: 200 images\n"
     ]
    },
    {
     "name": "stderr",
     "output_type": "stream",
     "text": [
      "Class Residential: 100%|██████████| 200/200 [00:14<00:00, 13.99it/s]\n"
     ]
    },
    {
     "name": "stdout",
     "output_type": "stream",
     "text": [
      "Processing class River: 200 images\n"
     ]
    },
    {
     "name": "stderr",
     "output_type": "stream",
     "text": [
      "Class River: 100%|██████████| 200/200 [00:14<00:00, 14.08it/s]\n"
     ]
    },
    {
     "name": "stdout",
     "output_type": "stream",
     "text": [
      "Training set size: 4800\n",
      "Test set size: 1200\n"
     ]
    }
   ],
   "source": [
    "def load_and_preprocess_data(dataset_path, sample_size=200):\n",
    "    X_sift, y = [], []\n",
    "    classes = sorted([d for d in os.listdir(dataset_path) if os.path.isdir(os.path.join(dataset_path, d))])\n",
    "    print(f\"Found {len(classes)} classes: {', '.join(classes)}\")\n",
    "    \n",
    "    for class_name in classes:\n",
    "        class_path = os.path.join(dataset_path, class_name)\n",
    "        if not os.path.isdir(class_path):\n",
    "            continue\n",
    "        \n",
    "        image_files = [f for f in os.listdir(class_path) if f.lower().endswith(('.png', '.jpg', '.jpeg'))]\n",
    "        if len(image_files) > sample_size:\n",
    "            image_files = np.random.choice(image_files, sample_size, replace=False)\n",
    "        \n",
    "        print(f\"Processing class {class_name}: {len(image_files)} images\")\n",
    "        \n",
    "        for img_file in tqdm(image_files, desc=f\"Class {class_name}\"):\n",
    "            img_path = os.path.join(class_path, img_file)\n",
    "            img = cv2.imread(img_path)\n",
    "            if img is None:\n",
    "                print(f\"Warning: Could not read {img_path}\")\n",
    "                continue\n",
    "            img = cv2.resize(img, (256, 256))\n",
    "            features = extract_sift_features(img, NUM_FEATURES)\n",
    "            X_sift.append(features.flatten())\n",
    "            y.append(class_name)\n",
    "\n",
    "            for batch in datagen.flow(np.expand_dims(img, 0), batch_size=1):\n",
    "                aug_img = batch[0].astype(np.uint8)\n",
    "                features = extract_sift_features(aug_img, NUM_FEATURES)\n",
    "                X_sift.append(features.flatten())\n",
    "                y.append(class_name)\n",
    "                break\n",
    "    \n",
    "    return np.array(X_sift), np.array(y)\n",
    "\n",
    "print(\"Loading and preprocessing data...\")\n",
    "X, y = load_and_preprocess_data(DATASET_DIR, SAMPLE_SIZE)\n",
    "le = LabelEncoder()\n",
    "y_encoded = le.fit_transform(y)\n",
    "X_train, X_test, y_train, y_test = train_test_split(\n",
    "    X, y_encoded, test_size=0.2, random_state=42, stratify=y_encoded\n",
    ")\n",
    "print(f\"Training set size: {X_train.shape[0]}\")\n",
    "print(f\"Test set size: {X_test.shape[0]}\")"
   ]
  },
  {
   "cell_type": "code",
   "execution_count": null,
   "metadata": {
    "execution": {
     "iopub.execute_input": "2025-04-16T07:29:32.749118Z",
     "iopub.status.busy": "2025-04-16T07:29:32.748779Z",
     "iopub.status.idle": "2025-04-16T08:02:23.137504Z",
     "shell.execute_reply": "2025-04-16T08:02:23.136361Z",
     "shell.execute_reply.started": "2025-04-16T07:29:32.749091Z"
    },
    "trusted": true
   },
   "outputs": [
    {
     "name": "stdout",
     "output_type": "stream",
     "text": [
      "Setting up grid search...\n",
      "Training model...\n",
      "Fitting 5 folds for each of 30 candidates, totalling 150 fits\n",
      "Best parameters: {'classifier': SVC(C=10, class_weight='balanced', probability=True), 'classifier__C': 10, 'classifier__class_weight': 'balanced', 'classifier__gamma': 'scale', 'classifier__kernel': 'rbf', 'pca__n_components': 100}\n",
      "[CV] END classifier=SVC(probability=True), classifier__C=0.1, classifier__class_weight=balanced, classifier__gamma=scale, classifier__kernel=rbf, pca__n_components=100; total time=  35.0s\n",
      "[CV] END classifier=SVC(probability=True), classifier__C=0.1, classifier__class_weight=balanced, classifier__gamma=scale, classifier__kernel=rbf, pca__n_components=200; total time= 1.0min\n",
      "[CV] END classifier=SVC(probability=True), classifier__C=0.1, classifier__class_weight=balanced, classifier__gamma=scale, classifier__kernel=rbf, pca__n_components=300; total time= 1.3min\n",
      "[CV] END classifier=SVC(probability=True), classifier__C=0.1, classifier__class_weight=balanced, classifier__gamma=auto, classifier__kernel=rbf, pca__n_components=100; total time=  39.0s\n",
      "[CV] END classifier=SVC(probability=True), classifier__C=0.1, classifier__class_weight=balanced, classifier__gamma=auto, classifier__kernel=rbf, pca__n_components=100; total time=  38.5s\n",
      "[CV] END classifier=SVC(probability=True), classifier__C=0.1, classifier__class_weight=balanced, classifier__gamma=auto, classifier__kernel=rbf, pca__n_components=200; total time= 1.1min\n",
      "[CV] END classifier=SVC(probability=True), classifier__C=0.1, classifier__class_weight=balanced, classifier__gamma=auto, classifier__kernel=rbf, pca__n_components=300; total time= 1.4min\n",
      "[CV] END classifier=SVC(probability=True), classifier__C=0.1, classifier__class_weight=balanced, classifier__gamma=auto, classifier__kernel=rbf, pca__n_components=300; total time= 1.4min\n",
      "[CV] END classifier=SVC(probability=True), classifier__C=1, classifier__class_weight=balanced, classifier__gamma=scale, classifier__kernel=rbf, pca__n_components=200; total time=  56.7s\n",
      "[CV] END classifier=SVC(probability=True), classifier__C=1, classifier__class_weight=balanced, classifier__gamma=scale, classifier__kernel=rbf, pca__n_components=300; total time= 1.3min\n",
      "[CV] END classifier=SVC(probability=True), classifier__C=1, classifier__class_weight=balanced, classifier__gamma=scale, classifier__kernel=rbf, pca__n_components=300; total time= 1.3min\n",
      "[CV] END classifier=SVC(probability=True), classifier__C=1, classifier__class_weight=balanced, classifier__gamma=auto, classifier__kernel=rbf, pca__n_components=200; total time= 1.1min\n",
      "[CV] END classifier=SVC(probability=True), classifier__C=1, classifier__class_weight=balanced, classifier__gamma=auto, classifier__kernel=rbf, pca__n_components=200; total time= 1.1min\n",
      "[CV] END classifier=SVC(probability=True), classifier__C=1, classifier__class_weight=balanced, classifier__gamma=auto, classifier__kernel=rbf, pca__n_components=300; total time= 1.4min\n",
      "[CV] END classifier=SVC(probability=True), classifier__C=10, classifier__class_weight=balanced, classifier__gamma=scale, classifier__kernel=rbf, pca__n_components=100; total time=  35.2s\n",
      "[CV] END classifier=SVC(probability=True), classifier__C=10, classifier__class_weight=balanced, classifier__gamma=scale, classifier__kernel=rbf, pca__n_components=200; total time=  58.1s\n",
      "[CV] END classifier=SVC(probability=True), classifier__C=10, classifier__class_weight=balanced, classifier__gamma=scale, classifier__kernel=rbf, pca__n_components=300; total time= 1.3min\n",
      "[CV] END classifier=SVC(probability=True), classifier__C=10, classifier__class_weight=balanced, classifier__gamma=auto, classifier__kernel=rbf, pca__n_components=100; total time=  41.6s\n",
      "[CV] END classifier=SVC(probability=True), classifier__C=10, classifier__class_weight=balanced, classifier__gamma=auto, classifier__kernel=rbf, pca__n_components=100; total time=  39.3s\n",
      "[CV] END classifier=SVC(probability=True), classifier__C=10, classifier__class_weight=balanced, classifier__gamma=auto, classifier__kernel=rbf, pca__n_components=200; total time= 1.0min\n",
      "[CV] END classifier=SVC(probability=True), classifier__C=10, classifier__class_weight=balanced, classifier__gamma=auto, classifier__kernel=rbf, pca__n_components=300; total time= 1.4min\n",
      "[CV] END classifier=RandomForestClassifier(random_state=42), classifier__max_depth=10, classifier__n_estimators=100, pca__n_components=100; total time=  22.7s\n",
      "[CV] END classifier=RandomForestClassifier(random_state=42), classifier__max_depth=10, classifier__n_estimators=100, pca__n_components=100; total time=  23.1s\n",
      "[CV] END classifier=RandomForestClassifier(random_state=42), classifier__max_depth=10, classifier__n_estimators=100, pca__n_components=200; total time=  35.7s\n",
      "[CV] END classifier=RandomForestClassifier(random_state=42), classifier__max_depth=10, classifier__n_estimators=100, pca__n_components=300; total time=  47.7s\n",
      "[CV] END classifier=RandomForestClassifier(random_state=42), classifier__max_depth=10, classifier__n_estimators=100, pca__n_components=300; total time=  47.6s\n",
      "[CV] END classifier=RandomForestClassifier(random_state=42), classifier__max_depth=10, classifier__n_estimators=200, pca__n_components=200; total time=  42.1s\n",
      "[CV] END classifier=RandomForestClassifier(random_state=42), classifier__max_depth=10, classifier__n_estimators=200, pca__n_components=200; total time=  41.5s\n",
      "[CV] END classifier=RandomForestClassifier(random_state=42), classifier__max_depth=10, classifier__n_estimators=200, pca__n_components=300; total time=  55.6s\n",
      "[CV] END classifier=RandomForestClassifier(random_state=42), classifier__max_depth=20, classifier__n_estimators=100, pca__n_components=100; total time=  23.2s\n",
      "[CV] END classifier=RandomForestClassifier(random_state=42), classifier__max_depth=20, classifier__n_estimators=100, pca__n_components=200; total time=  35.7s\n",
      "[CV] END classifier=RandomForestClassifier(random_state=42), classifier__max_depth=20, classifier__n_estimators=100, pca__n_components=300; total time=  50.1s\n",
      "[CV] END classifier=RandomForestClassifier(random_state=42), classifier__max_depth=20, classifier__n_estimators=200, pca__n_components=100; total time=  30.7s\n",
      "[CV] END classifier=RandomForestClassifier(random_state=42), classifier__max_depth=20, classifier__n_estimators=200, pca__n_components=100; total time=  29.4s\n",
      "[CV] END classifier=RandomForestClassifier(random_state=42), classifier__max_depth=20, classifier__n_estimators=200, pca__n_components=200; total time=  46.5s\n",
      "[CV] END classifier=RandomForestClassifier(random_state=42), classifier__max_depth=20, classifier__n_estimators=200, pca__n_components=300; total time= 1.0min\n",
      "[CV] END classifier=SVC(probability=True), classifier__C=0.1, classifier__class_weight=balanced, classifier__gamma=scale, classifier__kernel=rbf, pca__n_components=100; total time=  33.7s\n",
      "[CV] END classifier=SVC(probability=True), classifier__C=0.1, classifier__class_weight=balanced, classifier__gamma=scale, classifier__kernel=rbf, pca__n_components=200; total time=  59.2s\n",
      "[CV] END classifier=SVC(probability=True), classifier__C=0.1, classifier__class_weight=balanced, classifier__gamma=scale, classifier__kernel=rbf, pca__n_components=300; total time= 1.4min\n",
      "[CV] END classifier=SVC(probability=True), classifier__C=0.1, classifier__class_weight=balanced, classifier__gamma=scale, classifier__kernel=rbf, pca__n_components=300; total time= 1.3min\n",
      "[CV] END classifier=SVC(probability=True), classifier__C=0.1, classifier__class_weight=balanced, classifier__gamma=auto, classifier__kernel=rbf, pca__n_components=200; total time= 1.1min\n",
      "[CV] END classifier=SVC(probability=True), classifier__C=0.1, classifier__class_weight=balanced, classifier__gamma=auto, classifier__kernel=rbf, pca__n_components=200; total time= 1.0min\n",
      "[CV] END classifier=SVC(probability=True), classifier__C=0.1, classifier__class_weight=balanced, classifier__gamma=auto, classifier__kernel=rbf, pca__n_components=300; total time= 1.4min\n",
      "[CV] END classifier=SVC(probability=True), classifier__C=1, classifier__class_weight=balanced, classifier__gamma=scale, classifier__kernel=rbf, pca__n_components=100; total time=  29.8s\n",
      "[CV] END classifier=SVC(probability=True), classifier__C=1, classifier__class_weight=balanced, classifier__gamma=scale, classifier__kernel=rbf, pca__n_components=200; total time=  55.8s\n",
      "[CV] END classifier=SVC(probability=True), classifier__C=1, classifier__class_weight=balanced, classifier__gamma=scale, classifier__kernel=rbf, pca__n_components=300; total time= 1.3min\n",
      "[CV] END classifier=SVC(probability=True), classifier__C=1, classifier__class_weight=balanced, classifier__gamma=auto, classifier__kernel=rbf, pca__n_components=100; total time=  38.6s\n",
      "[CV] END classifier=SVC(probability=True), classifier__C=1, classifier__class_weight=balanced, classifier__gamma=auto, classifier__kernel=rbf, pca__n_components=100; total time=  40.0s\n",
      "[CV] END classifier=SVC(probability=True), classifier__C=1, classifier__class_weight=balanced, classifier__gamma=auto, classifier__kernel=rbf, pca__n_components=200; total time= 1.1min\n",
      "[CV] END classifier=SVC(probability=True), classifier__C=1, classifier__class_weight=balanced, classifier__gamma=auto, classifier__kernel=rbf, pca__n_components=300; total time= 1.4min\n",
      "[CV] END classifier=SVC(probability=True), classifier__C=1, classifier__class_weight=balanced, classifier__gamma=auto, classifier__kernel=rbf, pca__n_components=300; total time= 1.4min\n",
      "[CV] END classifier=SVC(probability=True), classifier__C=10, classifier__class_weight=balanced, classifier__gamma=scale, classifier__kernel=rbf, pca__n_components=200; total time=  58.0s\n",
      "[CV] END classifier=SVC(probability=True), classifier__C=10, classifier__class_weight=balanced, classifier__gamma=scale, classifier__kernel=rbf, pca__n_components=300; total time= 1.3min\n",
      "[CV] END classifier=SVC(probability=True), classifier__C=10, classifier__class_weight=balanced, classifier__gamma=auto, classifier__kernel=rbf, pca__n_components=100; total time=  38.7s\n",
      "[CV] END classifier=SVC(probability=True), classifier__C=10, classifier__class_weight=balanced, classifier__gamma=auto, classifier__kernel=rbf, pca__n_components=100; total time=  36.6s\n",
      "[CV] END classifier=SVC(probability=True), classifier__C=10, classifier__class_weight=balanced, classifier__gamma=auto, classifier__kernel=rbf, pca__n_components=200; total time= 1.1min\n",
      "[CV] END classifier=SVC(probability=True), classifier__C=10, classifier__class_weight=balanced, classifier__gamma=auto, classifier__kernel=rbf, pca__n_components=300; total time= 1.4min\n",
      "[CV] END classifier=SVC(probability=True), classifier__C=10, classifier__class_weight=balanced, classifier__gamma=auto, classifier__kernel=rbf, pca__n_components=300; total time= 1.5min\n",
      "[CV] END classifier=RandomForestClassifier(random_state=42), classifier__max_depth=10, classifier__n_estimators=100, pca__n_components=200; total time=  35.4s\n",
      "[CV] END classifier=RandomForestClassifier(random_state=42), classifier__max_depth=10, classifier__n_estimators=100, pca__n_components=300; total time=  46.7s\n",
      "[CV] END classifier=RandomForestClassifier(random_state=42), classifier__max_depth=10, classifier__n_estimators=200, pca__n_components=100; total time=  27.1s\n",
      "[CV] END classifier=RandomForestClassifier(random_state=42), classifier__max_depth=10, classifier__n_estimators=200, pca__n_components=100; total time=  28.6s\n",
      "[CV] END classifier=RandomForestClassifier(random_state=42), classifier__max_depth=10, classifier__n_estimators=200, pca__n_components=200; total time=  43.0s\n",
      "[CV] END classifier=RandomForestClassifier(random_state=42), classifier__max_depth=10, classifier__n_estimators=200, pca__n_components=300; total time=  56.1s\n",
      "[CV] END classifier=RandomForestClassifier(random_state=42), classifier__max_depth=20, classifier__n_estimators=100, pca__n_components=100; total time=  22.0s\n",
      "[CV] END classifier=RandomForestClassifier(random_state=42), classifier__max_depth=20, classifier__n_estimators=100, pca__n_components=100; total time=  23.3s\n",
      "[CV] END classifier=RandomForestClassifier(random_state=42), classifier__max_depth=20, classifier__n_estimators=100, pca__n_components=200; total time=  35.6s\n",
      "[CV] END classifier=RandomForestClassifier(random_state=42), classifier__max_depth=20, classifier__n_estimators=100, pca__n_components=300; total time=  49.1s\n",
      "[CV] END classifier=RandomForestClassifier(random_state=42), classifier__max_depth=20, classifier__n_estimators=200, pca__n_components=100; total time=  28.7s\n",
      "[CV] END classifier=RandomForestClassifier(random_state=42), classifier__max_depth=20, classifier__n_estimators=200, pca__n_components=100; total time=  29.6s\n",
      "[CV] END classifier=RandomForestClassifier(random_state=42), classifier__max_depth=20, classifier__n_estimators=200, pca__n_components=200; total time=  46.6s\n",
      "[CV] END classifier=RandomForestClassifier(random_state=42), classifier__max_depth=20, classifier__n_estimators=200, pca__n_components=300; total time= 1.0min\n",
      "[CV] END classifier=SVC(probability=True), classifier__C=0.1, classifier__class_weight=balanced, classifier__gamma=scale, classifier__kernel=rbf, pca__n_components=100; total time=  34.5s\n",
      "[CV] END classifier=SVC(probability=True), classifier__C=0.1, classifier__class_weight=balanced, classifier__gamma=scale, classifier__kernel=rbf, pca__n_components=200; total time=  58.1s\n",
      "[CV] END classifier=SVC(probability=True), classifier__C=0.1, classifier__class_weight=balanced, classifier__gamma=scale, classifier__kernel=rbf, pca__n_components=200; total time= 1.0min\n",
      "[CV] END classifier=SVC(probability=True), classifier__C=0.1, classifier__class_weight=balanced, classifier__gamma=scale, classifier__kernel=rbf, pca__n_components=300; total time= 1.3min\n",
      "[CV] END classifier=SVC(probability=True), classifier__C=0.1, classifier__class_weight=balanced, classifier__gamma=auto, classifier__kernel=rbf, pca__n_components=100; total time=  36.5s\n",
      "[CV] END classifier=SVC(probability=True), classifier__C=0.1, classifier__class_weight=balanced, classifier__gamma=auto, classifier__kernel=rbf, pca__n_components=200; total time= 1.1min\n",
      "[CV] END classifier=SVC(probability=True), classifier__C=0.1, classifier__class_weight=balanced, classifier__gamma=auto, classifier__kernel=rbf, pca__n_components=300; total time= 1.5min\n",
      "[CV] END classifier=SVC(probability=True), classifier__C=1, classifier__class_weight=balanced, classifier__gamma=scale, classifier__kernel=rbf, pca__n_components=100; total time=  30.9s\n",
      "[CV] END classifier=SVC(probability=True), classifier__C=1, classifier__class_weight=balanced, classifier__gamma=scale, classifier__kernel=rbf, pca__n_components=100; total time=  30.5s\n",
      "[CV] END classifier=SVC(probability=True), classifier__C=1, classifier__class_weight=balanced, classifier__gamma=scale, classifier__kernel=rbf, pca__n_components=200; total time=  56.7s\n",
      "[CV] END classifier=SVC(probability=True), classifier__C=1, classifier__class_weight=balanced, classifier__gamma=scale, classifier__kernel=rbf, pca__n_components=200; total time=  55.9s\n",
      "[CV] END classifier=SVC(probability=True), classifier__C=1, classifier__class_weight=balanced, classifier__gamma=scale, classifier__kernel=rbf, pca__n_components=300; total time= 1.3min\n",
      "[CV] END classifier=SVC(probability=True), classifier__C=1, classifier__class_weight=balanced, classifier__gamma=auto, classifier__kernel=rbf, pca__n_components=100; total time=  38.7s\n",
      "[CV] END classifier=SVC(probability=True), classifier__C=1, classifier__class_weight=balanced, classifier__gamma=auto, classifier__kernel=rbf, pca__n_components=200; total time= 1.1min\n",
      "[CV] END classifier=SVC(probability=True), classifier__C=1, classifier__class_weight=balanced, classifier__gamma=auto, classifier__kernel=rbf, pca__n_components=300; total time= 1.4min\n",
      "[CV] END classifier=SVC(probability=True), classifier__C=10, classifier__class_weight=balanced, classifier__gamma=scale, classifier__kernel=rbf, pca__n_components=100; total time=  34.5s\n",
      "[CV] END classifier=SVC(probability=True), classifier__C=10, classifier__class_weight=balanced, classifier__gamma=scale, classifier__kernel=rbf, pca__n_components=100; total time=  34.1s\n",
      "[CV] END classifier=SVC(probability=True), classifier__C=10, classifier__class_weight=balanced, classifier__gamma=scale, classifier__kernel=rbf, pca__n_components=200; total time=  56.2s\n",
      "[CV] END classifier=SVC(probability=True), classifier__C=10, classifier__class_weight=balanced, classifier__gamma=scale, classifier__kernel=rbf, pca__n_components=300; total time= 1.4min\n",
      "[CV] END classifier=SVC(probability=True), classifier__C=10, classifier__class_weight=balanced, classifier__gamma=scale, classifier__kernel=rbf, pca__n_components=300; total time= 1.3min\n",
      "[CV] END classifier=SVC(probability=True), classifier__C=10, classifier__class_weight=balanced, classifier__gamma=auto, classifier__kernel=rbf, pca__n_components=200; total time= 1.1min\n",
      "[CV] END classifier=SVC(probability=True), classifier__C=10, classifier__class_weight=balanced, classifier__gamma=auto, classifier__kernel=rbf, pca__n_components=200; total time= 1.1min\n",
      "[CV] END classifier=SVC(probability=True), classifier__C=10, classifier__class_weight=balanced, classifier__gamma=auto, classifier__kernel=rbf, pca__n_components=300; total time= 1.4min\n",
      "[CV] END classifier=RandomForestClassifier(random_state=42), classifier__max_depth=10, classifier__n_estimators=100, pca__n_components=200; total time=  36.6s\n",
      "[CV] END classifier=RandomForestClassifier(random_state=42), classifier__max_depth=10, classifier__n_estimators=100, pca__n_components=200; total time=  34.6s\n",
      "[CV] END classifier=RandomForestClassifier(random_state=42), classifier__max_depth=10, classifier__n_estimators=100, pca__n_components=300; total time=  45.3s\n",
      "[CV] END classifier=RandomForestClassifier(random_state=42), classifier__max_depth=10, classifier__n_estimators=200, pca__n_components=100; total time=  26.8s\n",
      "[CV] END classifier=RandomForestClassifier(random_state=42), classifier__max_depth=10, classifier__n_estimators=200, pca__n_components=200; total time=  40.2s\n",
      "[CV] END classifier=RandomForestClassifier(random_state=42), classifier__max_depth=10, classifier__n_estimators=200, pca__n_components=300; total time=  56.1s\n",
      "[CV] END classifier=RandomForestClassifier(random_state=42), classifier__max_depth=10, classifier__n_estimators=200, pca__n_components=300; total time=  54.0s\n",
      "[CV] END classifier=RandomForestClassifier(random_state=42), classifier__max_depth=20, classifier__n_estimators=100, pca__n_components=200; total time=  37.4s\n",
      "[CV] END classifier=RandomForestClassifier(random_state=42), classifier__max_depth=20, classifier__n_estimators=100, pca__n_components=300; total time=  49.4s\n",
      "[CV] END classifier=RandomForestClassifier(random_state=42), classifier__max_depth=20, classifier__n_estimators=100, pca__n_components=300; total time=  48.4s\n",
      "[CV] END classifier=RandomForestClassifier(random_state=42), classifier__max_depth=20, classifier__n_estimators=200, pca__n_components=200; total time=  45.2s\n",
      "[CV] END classifier=RandomForestClassifier(random_state=42), classifier__max_depth=20, classifier__n_estimators=200, pca__n_components=200; total time=  45.2s\n",
      "[CV] END classifier=RandomForestClassifier(random_state=42), classifier__max_depth=20, classifier__n_estimators=200, pca__n_components=300; total time=  50.8s\n",
      "[CV] END classifier=SVC(probability=True), classifier__C=0.1, classifier__class_weight=balanced, classifier__gamma=scale, classifier__kernel=rbf, pca__n_components=100; total time=  32.9s\n",
      "[CV] END classifier=SVC(probability=True), classifier__C=0.1, classifier__class_weight=balanced, classifier__gamma=scale, classifier__kernel=rbf, pca__n_components=100; total time=  33.7s\n",
      "[CV] END classifier=SVC(probability=True), classifier__C=0.1, classifier__class_weight=balanced, classifier__gamma=scale, classifier__kernel=rbf, pca__n_components=200; total time=  55.8s\n",
      "[CV] END classifier=SVC(probability=True), classifier__C=0.1, classifier__class_weight=balanced, classifier__gamma=scale, classifier__kernel=rbf, pca__n_components=300; total time= 1.3min\n",
      "[CV] END classifier=SVC(probability=True), classifier__C=0.1, classifier__class_weight=balanced, classifier__gamma=auto, classifier__kernel=rbf, pca__n_components=100; total time=  37.4s\n",
      "[CV] END classifier=SVC(probability=True), classifier__C=0.1, classifier__class_weight=balanced, classifier__gamma=auto, classifier__kernel=rbf, pca__n_components=100; total time=  36.8s\n",
      "[CV] END classifier=SVC(probability=True), classifier__C=0.1, classifier__class_weight=balanced, classifier__gamma=auto, classifier__kernel=rbf, pca__n_components=200; total time= 1.0min\n",
      "[CV] END classifier=SVC(probability=True), classifier__C=0.1, classifier__class_weight=balanced, classifier__gamma=auto, classifier__kernel=rbf, pca__n_components=300; total time= 1.5min\n",
      "[CV] END classifier=SVC(probability=True), classifier__C=1, classifier__class_weight=balanced, classifier__gamma=scale, classifier__kernel=rbf, pca__n_components=100; total time=  31.5s\n",
      "[CV] END classifier=SVC(probability=True), classifier__C=1, classifier__class_weight=balanced, classifier__gamma=scale, classifier__kernel=rbf, pca__n_components=100; total time=  30.3s\n",
      "[CV] END classifier=SVC(probability=True), classifier__C=1, classifier__class_weight=balanced, classifier__gamma=scale, classifier__kernel=rbf, pca__n_components=200; total time=  55.6s\n",
      "[CV] END classifier=SVC(probability=True), classifier__C=1, classifier__class_weight=balanced, classifier__gamma=scale, classifier__kernel=rbf, pca__n_components=300; total time= 1.3min\n",
      "[CV] END classifier=SVC(probability=True), classifier__C=1, classifier__class_weight=balanced, classifier__gamma=auto, classifier__kernel=rbf, pca__n_components=100; total time=  38.6s\n",
      "[CV] END classifier=SVC(probability=True), classifier__C=1, classifier__class_weight=balanced, classifier__gamma=auto, classifier__kernel=rbf, pca__n_components=100; total time=  40.8s\n",
      "[CV] END classifier=SVC(probability=True), classifier__C=1, classifier__class_weight=balanced, classifier__gamma=auto, classifier__kernel=rbf, pca__n_components=200; total time= 1.1min\n",
      "[CV] END classifier=SVC(probability=True), classifier__C=1, classifier__class_weight=balanced, classifier__gamma=auto, classifier__kernel=rbf, pca__n_components=300; total time= 1.4min\n",
      "[CV] END classifier=SVC(probability=True), classifier__C=10, classifier__class_weight=balanced, classifier__gamma=scale, classifier__kernel=rbf, pca__n_components=100; total time=  33.0s\n",
      "[CV] END classifier=SVC(probability=True), classifier__C=10, classifier__class_weight=balanced, classifier__gamma=scale, classifier__kernel=rbf, pca__n_components=100; total time=  33.2s\n",
      "[CV] END classifier=SVC(probability=True), classifier__C=10, classifier__class_weight=balanced, classifier__gamma=scale, classifier__kernel=rbf, pca__n_components=200; total time=  60.0s\n",
      "[CV] END classifier=SVC(probability=True), classifier__C=10, classifier__class_weight=balanced, classifier__gamma=scale, classifier__kernel=rbf, pca__n_components=200; total time=  57.5s\n",
      "[CV] END classifier=SVC(probability=True), classifier__C=10, classifier__class_weight=balanced, classifier__gamma=scale, classifier__kernel=rbf, pca__n_components=300; total time= 1.3min\n",
      "[CV] END classifier=SVC(probability=True), classifier__C=10, classifier__class_weight=balanced, classifier__gamma=auto, classifier__kernel=rbf, pca__n_components=100; total time=  36.6s\n",
      "[CV] END classifier=SVC(probability=True), classifier__C=10, classifier__class_weight=balanced, classifier__gamma=auto, classifier__kernel=rbf, pca__n_components=200; total time= 1.1min\n",
      "[CV] END classifier=SVC(probability=True), classifier__C=10, classifier__class_weight=balanced, classifier__gamma=auto, classifier__kernel=rbf, pca__n_components=300; total time= 1.5min\n",
      "[CV] END classifier=RandomForestClassifier(random_state=42), classifier__max_depth=10, classifier__n_estimators=100, pca__n_components=100; total time=  22.9s\n",
      "[CV] END classifier=RandomForestClassifier(random_state=42), classifier__max_depth=10, classifier__n_estimators=100, pca__n_components=100; total time=  22.6s\n",
      "[CV] END classifier=RandomForestClassifier(random_state=42), classifier__max_depth=10, classifier__n_estimators=100, pca__n_components=100; total time=  22.3s\n",
      "[CV] END classifier=RandomForestClassifier(random_state=42), classifier__max_depth=10, classifier__n_estimators=100, pca__n_components=200; total time=  33.7s\n",
      "[CV] END classifier=RandomForestClassifier(random_state=42), classifier__max_depth=10, classifier__n_estimators=100, pca__n_components=300; total time=  47.5s\n",
      "[CV] END classifier=RandomForestClassifier(random_state=42), classifier__max_depth=10, classifier__n_estimators=200, pca__n_components=100; total time=  27.1s\n",
      "[CV] END classifier=RandomForestClassifier(random_state=42), classifier__max_depth=10, classifier__n_estimators=200, pca__n_components=100; total time=  25.8s\n",
      "[CV] END classifier=RandomForestClassifier(random_state=42), classifier__max_depth=10, classifier__n_estimators=200, pca__n_components=200; total time=  42.4s\n",
      "[CV] END classifier=RandomForestClassifier(random_state=42), classifier__max_depth=10, classifier__n_estimators=200, pca__n_components=300; total time=  55.7s\n",
      "[CV] END classifier=RandomForestClassifier(random_state=42), classifier__max_depth=20, classifier__n_estimators=100, pca__n_components=100; total time=  23.2s\n",
      "[CV] END classifier=RandomForestClassifier(random_state=42), classifier__max_depth=20, classifier__n_estimators=100, pca__n_components=100; total time=  21.1s\n",
      "[CV] END classifier=RandomForestClassifier(random_state=42), classifier__max_depth=20, classifier__n_estimators=100, pca__n_components=200; total time=  38.1s\n",
      "[CV] END classifier=RandomForestClassifier(random_state=42), classifier__max_depth=20, classifier__n_estimators=100, pca__n_components=200; total time=  37.6s\n",
      "[CV] END classifier=RandomForestClassifier(random_state=42), classifier__max_depth=20, classifier__n_estimators=100, pca__n_components=300; total time=  49.2s\n",
      "[CV] END classifier=RandomForestClassifier(random_state=42), classifier__max_depth=20, classifier__n_estimators=200, pca__n_components=100; total time=  30.1s\n",
      "[CV] END classifier=RandomForestClassifier(random_state=42), classifier__max_depth=20, classifier__n_estimators=200, pca__n_components=200; total time=  46.6s\n",
      "[CV] END classifier=RandomForestClassifier(random_state=42), classifier__max_depth=20, classifier__n_estimators=200, pca__n_components=300; total time=  58.6s\n",
      "[CV] END classifier=RandomForestClassifier(random_state=42), classifier__max_depth=20, classifier__n_estimators=200, pca__n_components=300; total time=  37.1s\n"
     ]
    }
   ],
   "source": [
    "pipeline = Pipeline([\n",
    "    ('scaler', StandardScaler()),\n",
    "    ('pca', PCA()),\n",
    "    ('classifier', SVC(probability=True))\n",
    "])\n",
    "\n",
    "param_grid = [\n",
    "    {\n",
    "        'pca__n_components': [100, 200, 300],\n",
    "        'classifier': [SVC(probability=True)],\n",
    "        'classifier__C': [0.1, 1, 10],\n",
    "        'classifier__gamma': ['scale', 'auto'],\n",
    "        'classifier__kernel': ['rbf'],\n",
    "        'classifier__class_weight': ['balanced']\n",
    "    },\n",
    "    {\n",
    "        'pca__n_components': [100, 200, 300],\n",
    "        'classifier': [RandomForestClassifier(random_state=42)],\n",
    "        'classifier__n_estimators': [100, 200],\n",
    "        'classifier__max_depth': [10, 20]\n",
    "    }\n",
    "]\n",
    "\n",
    "cv = StratifiedKFold(n_splits=5, shuffle=True, random_state=42)\n",
    "\n",
    "print(\"Setting up grid search...\")\n",
    "grid_search = GridSearchCV(\n",
    "    pipeline, param_grid, cv=cv, scoring='accuracy', verbose=2, n_jobs=-1\n",
    ")\n",
    "print(\"Training model...\")\n",
    "grid_search.fit(X_train, y_train)\n",
    "\n",
    "print(\"Best parameters:\", grid_search.best_params_)\n",
    "best_model = grid_search.best_estimator_"
   ]
  },
  {
   "cell_type": "code",
   "execution_count": null,
   "metadata": {
    "execution": {
     "iopub.execute_input": "2025-04-16T08:18:32.894785Z",
     "iopub.status.busy": "2025-04-16T08:18:32.892641Z",
     "iopub.status.idle": "2025-04-16T08:18:38.935940Z",
     "shell.execute_reply": "2025-04-16T08:18:38.934848Z",
     "shell.execute_reply.started": "2025-04-16T08:18:32.894731Z"
    },
    "trusted": true
   },
   "outputs": [
    {
     "name": "stdout",
     "output_type": "stream",
     "text": [
      "Training Accuracy: 0.9831\n",
      "Test Accuracy: 0.4908\n",
      "Difference (overfitting measure): 0.4923\n",
      "\n",
      "Classification Report:\n",
      "              precision    recall  f1-score   support\n",
      "\n",
      " Agriculture       0.56      0.49      0.52        80\n",
      "     Airport       0.34      0.17      0.23        80\n",
      "       Beach       0.56      0.61      0.59        80\n",
      "        City       0.34      0.66      0.45        80\n",
      "      Desert       0.55      0.64      0.59        80\n",
      "      Forest       0.71      0.76      0.73        80\n",
      "   Grassland       0.48      0.35      0.41        80\n",
      "     Highway       0.32      0.47      0.39        80\n",
      "        Lake       0.15      0.06      0.09        80\n",
      "    Mountain       0.60      0.65      0.63        80\n",
      "     Parking       0.84      0.74      0.79        80\n",
      "        Port       0.72      0.35      0.47        80\n",
      "     Railway       0.39      0.47      0.43        80\n",
      " Residential       0.48      0.81      0.60        80\n",
      "       River       0.28      0.11      0.16        80\n",
      "\n",
      "    accuracy                           0.49      1200\n",
      "   macro avg       0.49      0.49      0.47      1200\n",
      "weighted avg       0.49      0.49      0.47      1200\n",
      "\n",
      "\n",
      "Confusion Matrix:\n",
      "[[39  2  5  2  4  1  3  7  2  0  0  0  2 12  1]\n",
      " [ 5 14  0 17  1  1  1 16  0  1  1  1 14  6  2]\n",
      " [ 3  2 49  1  1  1  4  2  7  4  2  2  0  1  1]\n",
      " [ 0  4  0 53  0  0  0  3  0  1  0  2  5 12  0]\n",
      " [ 1  0  2  2 51  2  8  3  2  5  1  2  0  0  1]\n",
      " [ 0  0  1  3  3 61  7  1  1  1  0  0  0  2  0]\n",
      " [ 3  1  2  1 22  9 28  5  3  1  0  0  1  3  1]\n",
      " [ 3  1  8  1  1  1  0 38  2  3  1  0 14  7  0]\n",
      " [12  0  7  7  4  4  1  9  5  7  0  0  2 15  7]\n",
      " [ 0  0  2  1  3  1  3  5  6 52  1  0  0  0  6]\n",
      " [ 0  3  0  6  2  2  1  1  0  0 59  0  3  3  0]\n",
      " [ 0  3  0 25  0  0  0  2  0  1  1 28 15  2  3]\n",
      " [ 1  6  1 13  0  0  0  8  0  0  4  4 38  4  1]\n",
      " [ 0  3  0  8  0  1  0  2  1  0  0  0  0 65  0]\n",
      " [ 3  2 10 14  1  2  2 15  4 10  0  0  4  4  9]]\n"
     ]
    },
    {
     "data": {
      "image/png": "[encoded data removed]",
      "text/plain": [
       "<Figure size 1000x800 with 2 Axes>"
      ]
     },
     "metadata": {},
     "output_type": "display_data"
    }
   ],
   "source": [
    "y_pred_train = best_model.predict(X_train)\n",
    "train_accuracy = accuracy_score(y_train, y_pred_train)\n",
    "y_pred_test = best_model.predict(X_test)\n",
    "test_accuracy = accuracy_score(y_test, y_pred_test)\n",
    "\n",
    "print(f\"Training Accuracy: {train_accuracy:.4f}\")\n",
    "print(f\"Test Accuracy: {test_accuracy:.4f}\")\n",
    "print(f\"Difference (overfitting measure): {train_accuracy - test_accuracy:.4f}\")\n",
    "\n",
    "print(\"\\nClassification Report:\")\n",
    "print(classification_report(y_test, y_pred_test, target_names=le.classes_))\n",
    "\n",
    "print(\"\\nConfusion Matrix:\")\n",
    "cm = confusion_matrix(y_test, y_pred_test)\n",
    "print(cm)\n",
    "\n",
    "plt.figure(figsize=(10, 8))\n",
    "plt.imshow(cm, interpolation='nearest', cmap=plt.cm.Blues)\n",
    "plt.title('Confusion Matrix')\n",
    "plt.colorbar()\n",
    "tick_marks = np.arange(len(le.classes_))\n",
    "plt.xticks(tick_marks, le.classes_, rotation=45)\n",
    "plt.yticks(tick_marks, le.classes_)\n",
    "plt.tight_layout()\n",
    "plt.ylabel('True label')\n",
    "plt.xlabel('Predicted label')\n",
    "plt.savefig('confusion_matrix.png')"
   ]
  },
  {
   "cell_type": "code",
   "execution_count": null,
   "metadata": {
    "trusted": true
   },
   "outputs": [],
   "source": []
  }
 ],
 "metadata": {
  "kaggle": {
   "accelerator": "none",
   "dataSources": [
    {
     "datasetId": 4329015,
     "sourceId": 7437988,
     "sourceType": "datasetVersion"
    }
   ],
   "dockerImageVersionId": 31012,
   "isGpuEnabled": false,
   "isInternetEnabled": true,
   "language": "python",
   "sourceType": "notebook"
  },
  "kernelspec": {
   "display_name": "Python 3",
   "language": "python",
   "name": "python3"
  },
  "language_info": {
   "codemirror_mode": {
    "name": "ipython",
    "version": 3
   },
   "file_extension": ".py",
   "mimetype": "text/x-python",
   "name": "python",
   "nbconvert_exporter": "python",
   "pygments_lexer": "ipython3",
   "version": "3.11.11"
  }
 },
 "nbformat": 4,
 "nbformat_minor": 4
}
