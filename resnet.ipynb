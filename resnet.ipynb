{
 "cells": [
  {
   "cell_type": "code",
   "execution_count": 1,
   "id": "b7c91781",
   "metadata": {},
   "outputs": [],
   "source": [
    "import os\n",
    "import torch\n",
    "import torch.nn as nn\n",
    "import torchvision.transforms as transforms\n",
    "from torchvision import datasets, models\n",
    "from torch.utils.data import DataLoader, random_split\n",
    "from sklearn.metrics import classification_report\n",
    "from tqdm import tqdm"
   ]
  },
  {
   "cell_type": "code",
   "execution_count": null,
   "id": "160a827e",
   "metadata": {},
   "outputs": [],
   "source": [
    "DATA_DIR = './Aerial_Landscapes'\n",
    "BATCH_SIZE = 32\n",
    "NUM_CLASSES = 15\n",
    "EPOCHS = 10\n",
    "DEVICE = torch.device(\"cuda\" if torch.cuda.is_available() else \"cpu\")"
   ]
  },
  {
   "cell_type": "code",
   "execution_count": null,
   "id": "58ddd64e",
   "metadata": {},
   "outputs": [],
   "source": [
    "train_transforms = transforms.Compose([\n",
    "    transforms.Resize((224, 224)),\n",
    "    transforms.RandomHorizontalFlip(),\n",
    "    transforms.RandomRotation(15),\n",
    "    transforms.ToTensor(),\n",
    "])\n",
    "test_transforms = transforms.Compose([\n",
    "    transforms.Resize((224, 224)),\n",
    "    transforms.ToTensor(),\n",
    "])"
   ]
  },
  {
   "cell_type": "code",
   "execution_count": null,
   "id": "1c6a380d",
   "metadata": {},
   "outputs": [],
   "source": [
    "def get_model():\n",
    "    model = models.resnet50(pretrained=True)\n",
    "    model.fc = nn.Linear(model.fc.in_features, NUM_CLASSES)\n",
    "    return model.to(DEVICE)"
   ]
  },
  {
   "cell_type": "code",
   "execution_count": null,
   "id": "3c59b102",
   "metadata": {},
   "outputs": [],
   "source": [
    "def train_model(model, train_loader, test_loader):\n",
    "    criterion = nn.CrossEntropyLoss()\n",
    "    optimizer = torch.optim.Adam(model.parameters(), lr=1e-4)\n",
    "\n",
    "    for epoch in range(EPOCHS):\n",
    "        model.train()\n",
    "        total_loss = 0\n",
    "        for imgs, labels in tqdm(train_loader, desc=f\"Epoch {epoch+1}/{EPOCHS}\"):\n",
    "            imgs, labels = imgs.to(DEVICE), labels.to(DEVICE)\n",
    "            optimizer.zero_grad()\n",
    "            loss = criterion(model(imgs), labels)\n",
    "            loss.backward()\n",
    "            optimizer.step()\n",
    "            total_loss += loss.item()\n",
    "        print(f\"Loss: {total_loss / len(train_loader):.4f}\")\n",
    "        evaluate_model(model, test_loader)"
   ]
  },
  {
   "cell_type": "code",
   "execution_count": null,
   "id": "464680d8",
   "metadata": {},
   "outputs": [],
   "source": [
    "def evaluate_model(model, loader):\n",
    "    model.eval()\n",
    "    y_true, y_pred = [], []\n",
    "    with torch.no_grad():\n",
    "        for imgs, labels in loader:\n",
    "            imgs = imgs.to(DEVICE)\n",
    "            outputs = model(imgs)\n",
    "            _, preds = torch.max(outputs, 1)\n",
    "            y_true.extend(labels.cpu().numpy())\n",
    "            y_pred.extend(preds.cpu().numpy())\n",
    "    print(classification_report(y_true, y_pred, zero_division=0))"
   ]
  },
  {
   "cell_type": "code",
   "execution_count": null,
   "id": "d0c9b2ac",
   "metadata": {},
   "outputs": [
    {
     "name": "stderr",
     "output_type": "stream",
     "text": [
      "C:\\Users\\nakul\\anaconda3\\lib\\site-packages\\torchvision\\models\\_utils.py:208: UserWarning: The parameter 'pretrained' is deprecated since 0.13 and may be removed in the future, please use 'weights' instead.\n",
      "  warnings.warn(\n",
      "C:\\Users\\nakul\\anaconda3\\lib\\site-packages\\torchvision\\models\\_utils.py:223: UserWarning: Arguments other than a weight enum or `None` for 'weights' are deprecated since 0.13 and may be removed in the future. The current behavior is equivalent to passing `weights=ResNet50_Weights.IMAGENET1K_V1`. You can also use `weights=ResNet50_Weights.DEFAULT` to get the most up-to-date weights.\n",
      "  warnings.warn(msg)\n",
      "Epoch 1/10: 100%|████████████████████████████████████████████████████████████████████| 300/300 [24:11<00:00,  4.84s/it]\n"
     ]
    },
    {
     "name": "stdout",
     "output_type": "stream",
     "text": [
      "Loss: 0.3907\n",
      "              precision    recall  f1-score   support\n",
      "\n",
      "           0       0.96      0.98      0.97       167\n",
      "           1       0.75      1.00      0.85       173\n",
      "           2       0.96      0.96      0.96       135\n",
      "           3       0.97      0.74      0.84       158\n",
      "           4       0.91      0.96      0.93       158\n",
      "           5       0.96      0.97      0.97       160\n",
      "           6       0.99      0.99      0.99       143\n",
      "           7       0.94      0.95      0.95       159\n",
      "           8       0.99      0.92      0.95       156\n",
      "           9       0.93      0.96      0.95       172\n",
      "          10       0.97      0.98      0.97       147\n",
      "          11       0.99      0.88      0.93       167\n",
      "          12       0.98      0.78      0.87       161\n",
      "          13       0.88      0.97      0.92       158\n",
      "          14       0.95      0.97      0.96       186\n",
      "\n",
      "    accuracy                           0.93      2400\n",
      "   macro avg       0.94      0.93      0.93      2400\n",
      "weighted avg       0.94      0.93      0.93      2400\n",
      "\n"
     ]
    },
    {
     "name": "stderr",
     "output_type": "stream",
     "text": [
      "Epoch 2/10: 100%|████████████████████████████████████████████████████████████████████| 300/300 [22:03<00:00,  4.41s/it]\n"
     ]
    },
    {
     "name": "stdout",
     "output_type": "stream",
     "text": [
      "Loss: 0.1161\n",
      "              precision    recall  f1-score   support\n",
      "\n",
      "           0       0.98      0.99      0.99       167\n",
      "           1       0.90      0.99      0.95       173\n",
      "           2       1.00      0.98      0.99       135\n",
      "           3       0.97      0.96      0.97       158\n",
      "           4       0.96      0.99      0.97       158\n",
      "           5       0.98      0.93      0.96       160\n",
      "           6       0.93      0.97      0.95       143\n",
      "           7       0.99      0.92      0.95       159\n",
      "           8       0.98      0.96      0.97       156\n",
      "           9       0.98      0.97      0.98       172\n",
      "          10       0.99      0.97      0.98       147\n",
      "          11       0.96      0.98      0.97       167\n",
      "          12       0.96      0.98      0.97       161\n",
      "          13       0.99      0.99      0.99       158\n",
      "          14       0.97      0.95      0.96       186\n",
      "\n",
      "    accuracy                           0.97      2400\n",
      "   macro avg       0.97      0.97      0.97      2400\n",
      "weighted avg       0.97      0.97      0.97      2400\n",
      "\n"
     ]
    },
    {
     "name": "stderr",
     "output_type": "stream",
     "text": [
      "Epoch 3/10: 100%|████████████████████████████████████████████████████████████████████| 300/300 [22:24<00:00,  4.48s/it]\n"
     ]
    },
    {
     "name": "stdout",
     "output_type": "stream",
     "text": [
      "Loss: 0.0704\n",
      "              precision    recall  f1-score   support\n",
      "\n",
      "           0       0.98      0.96      0.97       167\n",
      "           1       0.97      0.94      0.96       173\n",
      "           2       0.88      0.99      0.93       135\n",
      "           3       0.99      0.94      0.96       158\n",
      "           4       0.96      0.96      0.96       158\n",
      "           5       0.97      0.94      0.96       160\n",
      "           6       0.94      0.98      0.96       143\n",
      "           7       0.95      0.97      0.96       159\n",
      "           8       0.92      0.98      0.95       156\n",
      "           9       0.95      0.97      0.96       172\n",
      "          10       0.97      0.97      0.97       147\n",
      "          11       0.99      0.94      0.97       167\n",
      "          12       0.95      0.98      0.96       161\n",
      "          13       1.00      0.97      0.98       158\n",
      "          14       0.97      0.91      0.94       186\n",
      "\n",
      "    accuracy                           0.96      2400\n",
      "   macro avg       0.96      0.96      0.96      2400\n",
      "weighted avg       0.96      0.96      0.96      2400\n",
      "\n"
     ]
    },
    {
     "name": "stderr",
     "output_type": "stream",
     "text": [
      "Epoch 4/10: 100%|████████████████████████████████████████████████████████████████████| 300/300 [21:42<00:00,  4.34s/it]\n"
     ]
    },
    {
     "name": "stdout",
     "output_type": "stream",
     "text": [
      "Loss: 0.0684\n",
      "              precision    recall  f1-score   support\n",
      "\n",
      "           0       0.96      0.98      0.97       167\n",
      "           1       0.96      0.97      0.97       173\n",
      "           2       0.99      0.98      0.99       135\n",
      "           3       0.89      0.99      0.93       158\n",
      "           4       0.96      0.97      0.97       158\n",
      "           5       0.99      0.94      0.97       160\n",
      "           6       0.96      0.98      0.97       143\n",
      "           7       0.97      0.98      0.97       159\n",
      "           8       0.99      0.94      0.96       156\n",
      "           9       0.95      0.97      0.96       172\n",
      "          10       0.99      0.98      0.98       147\n",
      "          11       0.99      0.96      0.98       167\n",
      "          12       1.00      0.91      0.95       161\n",
      "          13       0.99      0.99      0.99       158\n",
      "          14       0.94      0.97      0.96       186\n",
      "\n",
      "    accuracy                           0.97      2400\n",
      "   macro avg       0.97      0.97      0.97      2400\n",
      "weighted avg       0.97      0.97      0.97      2400\n",
      "\n"
     ]
    },
    {
     "name": "stderr",
     "output_type": "stream",
     "text": [
      "Epoch 5/10: 100%|████████████████████████████████████████████████████████████████████| 300/300 [23:35<00:00,  4.72s/it]\n"
     ]
    },
    {
     "name": "stdout",
     "output_type": "stream",
     "text": [
      "Loss: 0.0583\n",
      "              precision    recall  f1-score   support\n",
      "\n",
      "           0       0.99      0.94      0.97       167\n",
      "           1       0.97      0.96      0.96       173\n",
      "           2       0.97      0.98      0.97       135\n",
      "           3       0.95      0.96      0.96       158\n",
      "           4       0.95      0.97      0.96       158\n",
      "           5       0.98      0.95      0.97       160\n",
      "           6       0.99      0.96      0.97       143\n",
      "           7       0.96      0.99      0.97       159\n",
      "           8       0.97      0.96      0.96       156\n",
      "           9       0.95      0.93      0.94       172\n",
      "          10       0.99      0.99      0.99       147\n",
      "          11       0.99      0.93      0.96       167\n",
      "          12       0.96      0.98      0.97       161\n",
      "          13       0.95      0.96      0.96       158\n",
      "          14       0.87      0.97      0.92       186\n",
      "\n",
      "    accuracy                           0.96      2400\n",
      "   macro avg       0.96      0.96      0.96      2400\n",
      "weighted avg       0.96      0.96      0.96      2400\n",
      "\n"
     ]
    },
    {
     "name": "stderr",
     "output_type": "stream",
     "text": [
      "Epoch 6/10: 100%|████████████████████████████████████████████████████████████████████| 300/300 [24:22<00:00,  4.88s/it]\n"
     ]
    },
    {
     "name": "stdout",
     "output_type": "stream",
     "text": [
      "Loss: 0.0550\n",
      "              precision    recall  f1-score   support\n",
      "\n",
      "           0       0.92      1.00      0.96       167\n",
      "           1       0.95      0.87      0.91       173\n",
      "           2       0.96      0.99      0.97       135\n",
      "           3       0.91      0.97      0.94       158\n",
      "           4       0.96      0.96      0.96       158\n",
      "           5       0.97      0.91      0.94       160\n",
      "           6       0.95      0.98      0.96       143\n",
      "           7       0.79      0.98      0.88       159\n",
      "           8       0.96      0.97      0.96       156\n",
      "           9       0.94      0.98      0.96       172\n",
      "          10       0.99      0.99      0.99       147\n",
      "          11       0.99      0.96      0.98       167\n",
      "          12       1.00      0.72      0.84       161\n",
      "          13       0.98      0.99      0.99       158\n",
      "          14       0.99      0.95      0.97       186\n",
      "\n",
      "    accuracy                           0.95      2400\n",
      "   macro avg       0.95      0.95      0.95      2400\n",
      "weighted avg       0.95      0.95      0.95      2400\n",
      "\n"
     ]
    },
    {
     "name": "stderr",
     "output_type": "stream",
     "text": [
      "Epoch 7/10: 100%|████████████████████████████████████████████████████████████████████| 300/300 [23:19<00:00,  4.66s/it]\n"
     ]
    },
    {
     "name": "stdout",
     "output_type": "stream",
     "text": [
      "Loss: 0.0479\n",
      "              precision    recall  f1-score   support\n",
      "\n",
      "           0       0.99      0.98      0.98       167\n",
      "           1       0.98      0.94      0.96       173\n",
      "           2       0.97      0.99      0.98       135\n",
      "           3       0.97      0.94      0.96       158\n",
      "           4       0.97      0.96      0.97       158\n",
      "           5       0.98      0.97      0.98       160\n",
      "           6       0.98      0.99      0.98       143\n",
      "           7       0.96      0.92      0.94       159\n",
      "           8       0.97      0.96      0.96       156\n",
      "           9       0.94      0.97      0.96       172\n",
      "          10       0.99      0.97      0.98       147\n",
      "          11       0.99      0.97      0.98       167\n",
      "          12       0.87      0.96      0.91       161\n",
      "          13       0.99      0.99      0.99       158\n",
      "          14       0.95      0.96      0.95       186\n",
      "\n",
      "    accuracy                           0.97      2400\n",
      "   macro avg       0.97      0.97      0.97      2400\n",
      "weighted avg       0.97      0.97      0.97      2400\n",
      "\n"
     ]
    },
    {
     "name": "stderr",
     "output_type": "stream",
     "text": [
      "Epoch 8/10: 100%|████████████████████████████████████████████████████████████████████| 300/300 [24:42<00:00,  4.94s/it]\n"
     ]
    },
    {
     "name": "stdout",
     "output_type": "stream",
     "text": [
      "Loss: 0.0269\n",
      "              precision    recall  f1-score   support\n",
      "\n",
      "           0       0.97      0.99      0.98       167\n",
      "           1       0.93      0.98      0.96       173\n",
      "           2       0.90      0.99      0.94       135\n",
      "           3       0.96      0.94      0.95       158\n",
      "           4       0.96      0.99      0.97       158\n",
      "           5       0.98      0.97      0.98       160\n",
      "           6       0.99      0.95      0.97       143\n",
      "           7       1.00      0.96      0.98       159\n",
      "           8       0.98      0.93      0.95       156\n",
      "           9       0.97      0.97      0.97       172\n",
      "          10       0.98      0.99      0.99       147\n",
      "          11       0.99      0.95      0.97       167\n",
      "          12       0.98      0.99      0.98       161\n",
      "          13       0.99      0.99      0.99       158\n",
      "          14       0.98      0.97      0.97       186\n",
      "\n",
      "    accuracy                           0.97      2400\n",
      "   macro avg       0.97      0.97      0.97      2400\n",
      "weighted avg       0.97      0.97      0.97      2400\n",
      "\n"
     ]
    },
    {
     "name": "stderr",
     "output_type": "stream",
     "text": [
      "Epoch 9/10: 100%|████████████████████████████████████████████████████████████████████| 300/300 [23:03<00:00,  4.61s/it]\n"
     ]
    },
    {
     "name": "stdout",
     "output_type": "stream",
     "text": [
      "Loss: 0.0375\n",
      "              precision    recall  f1-score   support\n",
      "\n",
      "           0       0.97      0.99      0.98       167\n",
      "           1       0.96      0.97      0.97       173\n",
      "           2       0.93      1.00      0.96       135\n",
      "           3       0.98      0.93      0.95       158\n",
      "           4       0.94      0.98      0.96       158\n",
      "           5       0.99      0.97      0.98       160\n",
      "           6       0.98      0.98      0.98       143\n",
      "           7       0.99      0.95      0.97       159\n",
      "           8       0.96      0.97      0.97       156\n",
      "           9       0.95      0.94      0.95       172\n",
      "          10       0.99      0.99      0.99       147\n",
      "          11       0.99      0.94      0.96       167\n",
      "          12       0.96      0.99      0.98       161\n",
      "          13       0.96      0.99      0.98       158\n",
      "          14       0.97      0.92      0.94       186\n",
      "\n",
      "    accuracy                           0.97      2400\n",
      "   macro avg       0.97      0.97      0.97      2400\n",
      "weighted avg       0.97      0.97      0.97      2400\n",
      "\n"
     ]
    },
    {
     "name": "stderr",
     "output_type": "stream",
     "text": [
      "Epoch 10/10: 100%|███████████████████████████████████████████████████████████████████| 300/300 [21:35<00:00,  4.32s/it]\n"
     ]
    },
    {
     "name": "stdout",
     "output_type": "stream",
     "text": [
      "Loss: 0.0343\n",
      "              precision    recall  f1-score   support\n",
      "\n",
      "           0       0.98      0.99      0.98       167\n",
      "           1       0.98      0.97      0.97       173\n",
      "           2       0.99      0.96      0.97       135\n",
      "           3       0.97      0.95      0.96       158\n",
      "           4       0.93      0.97      0.95       158\n",
      "           5       0.96      0.99      0.98       160\n",
      "           6       0.99      0.94      0.97       143\n",
      "           7       0.97      0.97      0.97       159\n",
      "           8       0.96      0.98      0.97       156\n",
      "           9       0.96      0.97      0.96       172\n",
      "          10       1.00      0.99      1.00       147\n",
      "          11       0.98      0.96      0.97       167\n",
      "          12       0.97      0.99      0.98       161\n",
      "          13       0.99      0.99      0.99       158\n",
      "          14       0.97      0.95      0.96       186\n",
      "\n",
      "    accuracy                           0.97      2400\n",
      "   macro avg       0.97      0.97      0.97      2400\n",
      "weighted avg       0.97      0.97      0.97      2400\n",
      "\n"
     ]
    }
   ],
   "source": [
    "def main():\n",
    "    dataset = datasets.ImageFolder(DATA_DIR, transform=train_transforms)\n",
    "    train_len = int(0.8 * len(dataset))\n",
    "    test_len = len(dataset) - train_len\n",
    "    train_data, test_data = random_split(dataset, [train_len, test_len])\n",
    "\n",
    "    train_data.dataset.transform = train_transforms\n",
    "    test_data.dataset.transform = test_transforms\n",
    "\n",
    "    train_loader = DataLoader(train_data, batch_size=BATCH_SIZE, shuffle=True)\n",
    "    test_loader = DataLoader(test_data, batch_size=BATCH_SIZE)\n",
    "\n",
    "    model = get_model()\n",
    "    train_model(model, train_loader, test_loader)\n",
    "\n",
    "if __name__ == '__main__':\n",
    "    main()\n"
   ]
  },
  {
   "cell_type": "code",
   "execution_count": null,
   "id": "46b807a1",
   "metadata": {},
   "outputs": [],
   "source": []
  }
 ],
 "metadata": {
  "kernelspec": {
   "display_name": "Python 3 (ipykernel)",
   "language": "python",
   "name": "python3"
  },
  "language_info": {
   "codemirror_mode": {
    "name": "ipython",
    "version": 3
   },
   "file_extension": ".py",
   "mimetype": "text/x-python",
   "name": "python",
   "nbconvert_exporter": "python",
   "pygments_lexer": "ipython3",
   "version": "3.9.12"
  }
 },
 "nbformat": 4,
 "nbformat_minor": 5
}
