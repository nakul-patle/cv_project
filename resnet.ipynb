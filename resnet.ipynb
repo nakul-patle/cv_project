{
 "cells": [
  {
   "cell_type": "code",
   "execution_count": null,
   "metadata": {
    "_cell_guid": "b1076dfc-b9ad-4769-8c92-a6c4dae69d19",
    "_uuid": "8f2839f25d086af736a60e9eeb907d3b93b6e0e5",
    "execution": {
     "iopub.execute_input": "2025-04-12T03:42:50.340818Z",
     "iopub.status.busy": "2025-04-12T03:42:50.340643Z",
     "iopub.status.idle": "2025-04-12T03:42:58.390565Z",
     "shell.execute_reply": "2025-04-12T03:42:58.389701Z",
     "shell.execute_reply.started": "2025-04-12T03:42:50.340801Z"
    },
    "trusted": true
   },
   "outputs": [],
   "source": [
    "import os\n",
    "import torch\n",
    "import torch.nn as nn\n",
    "import torch.optim as optim\n",
    "from torchvision import datasets, transforms, models\n",
    "from torch.utils.data import DataLoader, random_split\n",
    "from sklearn.metrics import classification_report\n",
    "from tqdm import tqdm\n",
    "import kagglehub"
   ]
  },
  {
   "cell_type": "code",
   "execution_count": null,
   "metadata": {
    "execution": {
     "iopub.execute_input": "2025-04-12T03:42:58.392922Z",
     "iopub.status.busy": "2025-04-12T03:42:58.392516Z",
     "iopub.status.idle": "2025-04-12T03:42:58.449588Z",
     "shell.execute_reply": "2025-04-12T03:42:58.448852Z",
     "shell.execute_reply.started": "2025-04-12T03:42:58.392894Z"
    },
    "trusted": true
   },
   "outputs": [],
   "source": [
    "DEVICE = torch.device(\"cuda\" if torch.cuda.is_available() else \"cpu\")\n",
    "NUM_CLASSES = 15\n",
    "IMG_SIZE = 224\n",
    "BATCH_SIZE = 32\n",
    "EPOCHS = 10\n",
    "LEARNING_RATE = 1e-4"
   ]
  },
  {
   "cell_type": "code",
   "execution_count": null,
   "metadata": {
    "execution": {
     "iopub.execute_input": "2025-04-12T03:42:58.450609Z",
     "iopub.status.busy": "2025-04-12T03:42:58.450365Z",
     "iopub.status.idle": "2025-04-12T03:42:58.801783Z",
     "shell.execute_reply": "2025-04-12T03:42:58.801261Z",
     "shell.execute_reply.started": "2025-04-12T03:42:58.450581Z"
    },
    "trusted": true
   },
   "outputs": [],
   "source": [
    "path = kagglehub.dataset_download(\"ankit1743/skyview-an-aerial-landscape-dataset\")\n",
    "DATA_DIR = os.path.join(path, \"Aerial_Landscapes\")"
   ]
  },
  {
   "cell_type": "code",
   "execution_count": null,
   "metadata": {
    "execution": {
     "iopub.execute_input": "2025-04-12T03:42:58.802665Z",
     "iopub.status.busy": "2025-04-12T03:42:58.802476Z",
     "iopub.status.idle": "2025-04-12T03:42:58.807118Z",
     "shell.execute_reply": "2025-04-12T03:42:58.806398Z",
     "shell.execute_reply.started": "2025-04-12T03:42:58.802649Z"
    },
    "trusted": true
   },
   "outputs": [],
   "source": [
    "train_transforms = transforms.Compose([\n",
    "    transforms.Resize((IMG_SIZE, IMG_SIZE)),\n",
    "    transforms.RandomHorizontalFlip(),\n",
    "    transforms.RandomRotation(15),\n",
    "    transforms.ColorJitter(),\n",
    "    transforms.ToTensor(),\n",
    "])\n",
    "test_transforms = transforms.Compose([\n",
    "    transforms.Resize((IMG_SIZE, IMG_SIZE)),\n",
    "    transforms.ToTensor(),\n",
    "])"
   ]
  },
  {
   "cell_type": "code",
   "execution_count": null,
   "metadata": {
    "execution": {
     "iopub.execute_input": "2025-04-12T03:42:58.807923Z",
     "iopub.status.busy": "2025-04-12T03:42:58.807731Z",
     "iopub.status.idle": "2025-04-12T03:43:19.155051Z",
     "shell.execute_reply": "2025-04-12T03:43:19.154475Z",
     "shell.execute_reply.started": "2025-04-12T03:42:58.807908Z"
    },
    "trusted": true
   },
   "outputs": [],
   "source": [
    "dataset = datasets.ImageFolder(DATA_DIR, transform=train_transforms)\n",
    "class_names = dataset.classes\n",
    "\n",
    "train_len = int(0.8 * len(dataset))\n",
    "test_len = len(dataset) - train_len\n",
    "train_data, test_data = random_split(dataset, [train_len, test_len])\n",
    "\n",
    "train_data.dataset.transform = train_transforms\n",
    "test_data.dataset.transform = test_transforms\n",
    "\n",
    "train_loader = DataLoader(train_data, batch_size=BATCH_SIZE, shuffle=True)\n",
    "test_loader = DataLoader(test_data, batch_size=BATCH_SIZE)"
   ]
  },
  {
   "cell_type": "code",
   "execution_count": null,
   "metadata": {
    "execution": {
     "iopub.execute_input": "2025-04-12T03:43:19.155920Z",
     "iopub.status.busy": "2025-04-12T03:43:19.155712Z",
     "iopub.status.idle": "2025-04-12T03:43:19.160677Z",
     "shell.execute_reply": "2025-04-12T03:43:19.159896Z",
     "shell.execute_reply.started": "2025-04-12T03:43:19.155903Z"
    },
    "trusted": true
   },
   "outputs": [],
   "source": [
    "def get_custom_resnet50(num_classes=15, freeze_layers=True):\n",
    "    model = models.resnet50(pretrained=True)\n",
    "\n",
    "    if freeze_layers:\n",
    "        for name, param in model.named_parameters():\n",
    "            if \"layer4\" not in name and \"fc\" not in name:\n",
    "                param.requires_grad = False\n",
    "\n",
    "    model.fc = nn.Sequential(\n",
    "        nn.Linear(model.fc.in_features, 512),\n",
    "        nn.ReLU(),\n",
    "        nn.Dropout(0.3),\n",
    "        nn.Linear(512, 128),\n",
    "        nn.ReLU(),\n",
    "        nn.Dropout(0.2),\n",
    "        nn.Linear(128, num_classes)\n",
    "    )\n",
    "\n",
    "    return model"
   ]
  },
  {
   "cell_type": "code",
   "execution_count": null,
   "metadata": {
    "execution": {
     "iopub.execute_input": "2025-04-12T03:43:19.162781Z",
     "iopub.status.busy": "2025-04-12T03:43:19.162564Z",
     "iopub.status.idle": "2025-04-12T03:43:19.180196Z",
     "shell.execute_reply": "2025-04-12T03:43:19.179578Z",
     "shell.execute_reply.started": "2025-04-12T03:43:19.162765Z"
    },
    "trusted": true
   },
   "outputs": [],
   "source": [
    "def train_model(model, train_loader, test_loader):\n",
    "    criterion = nn.CrossEntropyLoss()\n",
    "    optimizer = optim.Adam(filter(lambda p: p.requires_grad, model.parameters()), lr=LEARNING_RATE)\n",
    "\n",
    "    for epoch in range(EPOCHS):\n",
    "        model.train()\n",
    "        running_loss = 0.0\n",
    "        for inputs, labels in tqdm(train_loader, desc=f\"Epoch {epoch+1}/{EPOCHS}\"):\n",
    "            inputs, labels = inputs.to(DEVICE), labels.to(DEVICE)\n",
    "            optimizer.zero_grad()\n",
    "            outputs = model(inputs)\n",
    "            loss = criterion(outputs, labels)\n",
    "            loss.backward()\n",
    "            optimizer.step()\n",
    "            running_loss += loss.item()\n",
    "\n",
    "        print(f\"Epoch {epoch+1} | Loss: {running_loss / len(train_loader):.4f}\")\n",
    "        evaluate_model(model, test_loader)"
   ]
  },
  {
   "cell_type": "code",
   "execution_count": null,
   "metadata": {
    "execution": {
     "iopub.execute_input": "2025-04-12T03:43:19.181213Z",
     "iopub.status.busy": "2025-04-12T03:43:19.180971Z",
     "iopub.status.idle": "2025-04-12T03:43:19.197173Z",
     "shell.execute_reply": "2025-04-12T03:43:19.196477Z",
     "shell.execute_reply.started": "2025-04-12T03:43:19.181188Z"
    },
    "trusted": true
   },
   "outputs": [],
   "source": [
    "def evaluate_model(model, loader):\n",
    "    model.eval()\n",
    "    y_true, y_pred = [], []\n",
    "    with torch.no_grad():\n",
    "        for inputs, targets in loader:\n",
    "            inputs = inputs.to(DEVICE)\n",
    "            outputs = model(inputs)\n",
    "            _, preds = torch.max(outputs, 1)\n",
    "            y_true.extend(targets.cpu().numpy())\n",
    "            y_pred.extend(preds.cpu().numpy())\n",
    "\n",
    "    print(\"\\nClassification Report:\")\n",
    "    print(classification_report(y_true, y_pred, target_names=class_names, zero_division=0))"
   ]
  },
  {
   "cell_type": "code",
   "execution_count": null,
   "metadata": {
    "execution": {
     "iopub.execute_input": "2025-04-12T03:43:19.198297Z",
     "iopub.status.busy": "2025-04-12T03:43:19.198083Z",
     "iopub.status.idle": "2025-04-12T03:53:37.004509Z",
     "shell.execute_reply": "2025-04-12T03:53:37.003816Z",
     "shell.execute_reply.started": "2025-04-12T03:43:19.198282Z"
    },
    "trusted": true
   },
   "outputs": [],
   "source": [
    "def main():\n",
    "    model = get_custom_resnet50(num_classes=NUM_CLASSES, freeze_layers=True).to(DEVICE)\n",
    "    train_model(model, train_loader, test_loader)\n",
    "\n",
    "if __name__ == \"__main__\":\n",
    "    main()"
   ]
  }
 ],
 "metadata": {
  "kaggle": {
   "accelerator": "gpu",
   "dataSources": [
    {
     "datasetId": 4329015,
     "sourceId": 7437988,
     "sourceType": "datasetVersion"
    }
   ],
   "dockerImageVersionId": 31011,
   "isGpuEnabled": true,
   "isInternetEnabled": true,
   "language": "python",
   "sourceType": "notebook"
  },
  "kernelspec": {
   "display_name": "Python 3",
   "language": "python",
   "name": "python3"
  },
  "language_info": {
   "codemirror_mode": {
    "name": "ipython",
    "version": 3
   },
   "file_extension": ".py",
   "mimetype": "text/x-python",
   "name": "python",
   "nbconvert_exporter": "python",
   "pygments_lexer": "ipython3",
   "version": "3.11.11"
  }
 },
 "nbformat": 4,
 "nbformat_minor": 4
}
